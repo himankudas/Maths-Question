{
 "cells": [
  {
   "cell_type": "code",
   "execution_count": 36,
   "metadata": {},
   "outputs": [],
   "source": [
    "digits = [1,2,3,4,5,6,7,8,9,0]\n",
    "\n",
    "answer = []"
   ]
  },
  {
   "cell_type": "code",
   "execution_count": 37,
   "metadata": {},
   "outputs": [
    {
     "name": "stdout",
     "output_type": "stream",
     "text": [
      "['3816547290']\n"
     ]
    }
   ],
   "source": [
    "def recur(attempt, digits):\n",
    "    \n",
    "    if attempt !='':\n",
    "        if int(attempt) % len(attempt) !=0: return False\n",
    "        if len(digits) ==0: return attempt\n",
    "\n",
    "    for digit in digits:\n",
    "        new_attempt = attempt + str(digit)\n",
    "\n",
    "        digits_left = digits.copy()\n",
    "        digits_left.remove(digit)\n",
    "\n",
    "        result = recur(new_attempt, digits_left)\n",
    "\n",
    "        if result !=False:\n",
    "            answer.append(result)\n",
    "\n",
    "    return False\n",
    "\n",
    "recur('',digits)\n",
    "print(answer)\n"
   ]
  }
 ],
 "metadata": {
  "kernelspec": {
   "display_name": "Finance",
   "language": "python",
   "name": "python3"
  },
  "language_info": {
   "codemirror_mode": {
    "name": "ipython",
    "version": 3
   },
   "file_extension": ".py",
   "mimetype": "text/x-python",
   "name": "python",
   "nbconvert_exporter": "python",
   "pygments_lexer": "ipython3",
   "version": "3.10.8"
  },
  "orig_nbformat": 4,
  "vscode": {
   "interpreter": {
    "hash": "a9fb8fd0c293949254f68169d8e6a18c10616d5031a59a38487dbf0dbe7d8c82"
   }
  }
 },
 "nbformat": 4,
 "nbformat_minor": 2
}
